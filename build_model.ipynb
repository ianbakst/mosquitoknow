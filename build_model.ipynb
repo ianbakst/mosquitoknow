{
 "cells": [
  {
   "cell_type": "code",
   "execution_count": 1,
   "metadata": {},
   "outputs": [
    {
     "name": "stdout",
     "output_type": "stream",
     "text": [
      "10.645863844562136\n",
      "         0         0\n",
      "0      TL1  1.220404\n",
      "1     Tmin  2.266367\n",
      "2     Tmax  0.466391\n",
      "3     d_lm  3.085175\n",
      "4  d_water -2.638007\n",
      "5   d_park  3.125438\n",
      "6      TH0  0.055581\n",
      "7     prec  0.051480\n"
     ]
    }
   ],
   "source": [
    "import numpy as np\n",
    "import pandas as pd\n",
    "import geopandas as gpd\n",
    "import matplotlib as mpl\n",
    "import matplotlib.pyplot as plt\n",
    "import seaborn as sns\n",
    "#from darksky import forecast\n",
    "import datetime as dt\n",
    "#from noaa_sdk import noaa\n",
    "from sklearn.linear_model import LinearRegression, Lasso, Ridge, ElasticNet, ElasticNetCV\n",
    "from sklearn.preprocessing import RobustScaler, PowerTransformer\n",
    "from sklearn.ensemble import RandomForestRegressor\n",
    "from sklearn.datasets import make_regression\n",
    "from sklearn.model_selection import cross_validate\n",
    "from sklearn.pipeline import Pipeline\n",
    "from sklearn.metrics import mean_absolute_error\n",
    "import pickle\n",
    "from shapely.geometry import Point, Polygon\n",
    "\n",
    "geo_data = pd.read_csv('data/distance_to_lake.csv')\n",
    "\n",
    "scaler = RobustScaler()\n",
    "\n",
    "geo_data['log_num'] = np.log(geo_data['num'])\n",
    "feature_data = geo_data[['log_num','num','d_water','d_park',\n",
    "       'd_lm','TL1','Tmin','Tmax','TH0','prec']].dropna()\n",
    "\n",
    "feature_data['sqrt_dw']=np.sqrt(feature_data['d_water'])\n",
    "feature_data['sqrt_dp']=np.sqrt(feature_data['d_park'])\n",
    "X = feature_data[['TL1','Tmin','Tmax','d_lm','d_water','d_park','TH0','prec']]\n",
    "X.columns\n",
    "trainX = scaler.fit_transform(X)\n",
    "trainy = feature_data.num\n",
    "#las = ElasticNet(alpha = 1,l1_ratio=0.5).fit(trainX, trainy)\n",
    "lin = LinearRegression().fit(trainX,trainy)\n",
    "lin.score(trainX,trainy)\n",
    "\n",
    "coefficients = pd.concat([pd.DataFrame(X.columns),pd.DataFrame(np.transpose(lin.coef_))], axis = 1)\n",
    "coefficients.columns\n",
    "print(mean_absolute_error((trainy),lin.predict(trainX)))\n",
    "#print(mean_absolute_error(trainy,lin.predict(trainX)))\n",
    "#coefs = abs(coefficients.iloc[:,1])\n",
    "print(coefficients)\n",
    "modelfilename = 'data/lin_model.sav'\n",
    "scalerfilename = 'data/lin_scaler.sav'\n",
    "pickle.dump(lin, open(modelfilename, 'wb'))\n",
    "pickle.dump(scaler, open(scalerfilename, 'wb'))"
   ]
  },
  {
   "cell_type": "code",
   "execution_count": null,
   "metadata": {},
   "outputs": [],
   "source": []
  }
 ],
 "metadata": {
  "kernelspec": {
   "display_name": "myenv",
   "language": "python",
   "name": "myenv"
  },
  "language_info": {
   "codemirror_mode": {
    "name": "ipython",
    "version": 3
   },
   "file_extension": ".py",
   "mimetype": "text/x-python",
   "name": "python",
   "nbconvert_exporter": "python",
   "pygments_lexer": "ipython3",
   "version": "3.7.3"
  }
 },
 "nbformat": 4,
 "nbformat_minor": 2
}
