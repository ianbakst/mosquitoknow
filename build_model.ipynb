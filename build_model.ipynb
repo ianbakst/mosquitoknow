{
 "cells": [
  {
   "cell_type": "code",
   "execution_count": 30,
   "metadata": {},
   "outputs": [
    {
     "name": "stdout",
     "output_type": "stream",
     "text": [
      "10.707431344983814\n",
      "         0         0\n",
      "0      TL1  1.229457\n",
      "1     Tmin  2.298272\n",
      "2     Tmax  0.474275\n",
      "3     d_lm  2.872907\n",
      "4  sqrt_dw -2.716650\n",
      "5  sqrt_dp  3.825723\n"
     ]
    }
   ],
   "source": [
    "import numpy as np\n",
    "import pandas as pd\n",
    "import geopandas as gpd\n",
    "import matplotlib as mpl\n",
    "import matplotlib.pyplot as plt\n",
    "import seaborn as sns\n",
    "#from darksky import forecast\n",
    "import datetime as dt\n",
    "#from noaa_sdk import noaa\n",
    "from sklearn.linear_model import LinearRegression\n",
    "from sklearn.preprocessing import RobustScaler, PowerTransformer\n",
    "from sklearn.ensemble import RandomForestRegressor\n",
    "from sklearn.datasets import make_regression\n",
    "from sklearn.model_selection import cross_validate\n",
    "from sklearn.pipeline import Pipeline\n",
    "from sklearn.metrics import mean_absolute_error\n",
    "import pickle\n",
    "from shapely.geometry import Point, Polygon\n",
    "\n",
    "#n = noaa.NOAA()\n",
    "noaakey = 'LsIneJLfjoLBjuBphdeUGyJLVJdXWRpK'\n",
    "dskey = '6864d54f724e54e7c3ae08094f523ff0'\n",
    "\n",
    "\n",
    "geo_data = pd.read_csv('distance_to_lake.csv')\n",
    "\n",
    "scaler = RobustScaler()\n",
    "\n",
    "feature_data = geo_data[['num','d_water','d_park',\n",
    "       'd_lm','TL1','Tmin','Tmax']].dropna()\n",
    "feature_data['sqrt_dw']=np.sqrt(feature_data['d_water'])\n",
    "feature_data['sqrt_dp']=np.sqrt(feature_data['d_park'])\n",
    "X = feature_data[['TL1','Tmin','Tmax','d_lm','sqrt_dw','sqrt_dp']]\n",
    "X.columns\n",
    "trainX = scaler.fit_transform(X)\n",
    "trainy = feature_data.num.astype(float)\n",
    "lin = LinearRegression().fit(trainX, trainy)\n",
    "lin.score(trainX,trainy)\n",
    "\n",
    "coefficients = pd.concat([pd.DataFrame(X.columns),pd.DataFrame(np.transpose(lin.coef_))], axis = 1)\n",
    "coefficients.columns\n",
    "print(mean_absolute_error(trainy,lin.predict(trainX)))\n",
    "#coefs = abs(coefficients.iloc[:,1])\n",
    "print(coefficients)\n",
    "modelfilename = 'lin_model.sav'\n",
    "scalerfilename = 'lin_scaler.sav'\n",
    "pickle.dump(lin, open(modelfilename, 'wb'))\n",
    "pickle.dump(scaler, open(scalerfilename, 'wb'))"
   ]
  },
  {
   "cell_type": "code",
   "execution_count": 17,
   "metadata": {},
   "outputs": [],
   "source": [
    "def get_weather(input_date):\n",
    "    date = (pd.to_datetime(input_date)).date()\n",
    "    dskey = '6864d54f724e54e7c3ae08094f523ff0'\n",
    "    CHICAGO = dskey, 41.95, -87.80\n",
    "    deltaT = (date - dt.date.today()).days\n",
    "    prec = 0.0\n",
    "    Tmax = 0.0\n",
    "    Tmin = 100.0\n",
    "    TH0 = 0.0\n",
    "    TL1 = 0.0\n",
    "    if deltaT > 0:\n",
    "        fore_cast = forecast(*CHICAGO)\n",
    "        TH0 = fore_cast.daily[deltaT].temperatureHigh\n",
    "        TL1 = fore_cast.daily[deltaT-1].temperatureLow\n",
    "        for i in range(deltaT):\n",
    "            Tmax = max([fore_cast.daily[i].temperatureHigh, Tmax])\n",
    "            Tmin = min([fore_cast.daily[i].temperatureLow, Tmin])\n",
    "            prec += fore_cast.daily[i].precipIntensityMax\n",
    "    elif deltaT == 0:\n",
    "        fore_cast = forecast(*CHICAGO)\n",
    "        TH0 = fore_cast.daily[deltaT].temperatureHigh\n",
    "        Tmax = TH0\n",
    "        Tmin = fore_cast.daily[deltaT].temperatureLow\n",
    "\n",
    "    N = 10 - deltaT\n",
    "    if N > 10:\n",
    "        N = 10\n",
    "    for i in range(N):\n",
    "        bt = (dt.date.today() + pd.DateOffset(deltaT - i)).isoformat()\n",
    "        backDay = forecast(*CHICAGO, time = bt)\n",
    "        if deltaT <= 0:\n",
    "            if i == 0:\n",
    "                TH0 = backDay.daily[0].temperatureHigh\n",
    "            elif i == 1:\n",
    "                TL1 = backDay.daily[0].temperatureLow\n",
    "        Tmax = max([Tmax,backDay.daily[0].temperatureHigh])\n",
    "        Tmin = min([Tmin,backDay.daily[0].temperatureLow])\n",
    "        prec += backDay.daily[0].precipIntensityMax\n",
    "    A={}\n",
    "    A['TH0']= TH0\n",
    "    A['TL1']= TL1\n",
    "    A['Tmax']= Tmax\n",
    "    A['Tmin']= Tmin\n",
    "    A['prec']= prec\n",
    "    return A"
   ]
  },
  {
   "cell_type": "code",
   "execution_count": 27,
   "metadata": {},
   "outputs": [
    {
     "data": {
      "text/plain": [
       "Index(['Tmin', 'TL1', 'Tmax', 'd_lm', 'sqrt_dw', 'sqrt_dp'], dtype='object')"
      ]
     },
     "execution_count": 27,
     "metadata": {},
     "output_type": "execute_result"
    }
   ],
   "source": [
    "X.columns"
   ]
  },
  {
   "cell_type": "code",
   "execution_count": 19,
   "metadata": {},
   "outputs": [],
   "source": [
    "latmin = min(geo_data.lat)\n",
    "latmax = max(geo_data.lat)\n",
    "lonmin = min(geo_data.lon)\n",
    "lonmax = max(geo_data.lon)\n",
    "\n",
    "grd = np.indices((51,51)).T.reshape(-1,2)\n",
    "grd = grd.astype(float)\n",
    "grd[:,1] = (1/50.)*grd[:,1]*(lonmax - lonmin) + lonmin\n",
    "grd[:,0] = (1/50.)*grd[:,0]*(latmax - latmin) + latmin\n",
    "xx = np.linspace(lonmin,lonmax,51)\n",
    "yy = np.linspace(latmin,latmax,51)\n",
    "testX = pd.DataFrame({'lat':grd[:,0],'lon':grd[:,1]})\n",
    "testX['Tmax'] = 86.63 \n",
    "testX['Tmin'] = 65.18\n",
    "testX['TH0'] = 83.63\n",
    "testX['TL1'] = 75.18\n",
    "testX['prec'] = 0.\n",
    "\n",
    "geogrid = pd.read_csv('gridlake.csv')\n",
    "testX['sqrt_dw']=np.sqrt(geogrid['d_water'])\n",
    "testX['sqrt_dp']=np.sqrt(geogrid['d_park'])\n",
    "testX['d_lm']=np.sqrt(geogrid['d_lm'])"
   ]
  },
  {
   "cell_type": "code",
   "execution_count": 5,
   "metadata": {},
   "outputs": [
    {
     "data": {
      "image/png": "[encoded data removed]",
      "text/plain": [
       "<Figure size 432x288 with 2 Axes>"
      ]
     },
     "metadata": {
      "needs_background": "light"
     },
     "output_type": "display_data"
    }
   ],
   "source": [
    "testX = testX[testX.columns.difference(['geometry'])]\n",
    "TX = scaler.transform(testX[X.columns])\n",
    "xx = np.linspace(lonmin,lonmax,51)\n",
    "yy = np.linspace(latmin,latmax,51)\n",
    "YY = lin.predict(TX)\n",
    "testY = YY.reshape(51,51).transpose()\n",
    "plt.contourf(xx,yy,testY,5,alpha=1.0)\n",
    "plt.axis('equal')\n",
    "plt.colorbar()\n",
    "plt.show()"
   ]
  },
  {
   "cell_type": "code",
   "execution_count": 17,
   "metadata": {},
   "outputs": [
    {
     "name": "stderr",
     "output_type": "stream",
     "text": [
      "/Users/ianbakst/anaconda3/envs/myenv/lib/python3.7/site-packages/ipykernel_launcher.py:28: FutureWarning: set_value is deprecated and will be removed in a future release. Please use .at[] or .iat[] accessors instead\n",
      "/Users/ianbakst/anaconda3/envs/myenv/lib/python3.7/site-packages/ipykernel_launcher.py:38: FutureWarning: set_value is deprecated and will be removed in a future release. Please use .at[] or .iat[] accessors instead\n",
      "/Users/ianbakst/anaconda3/envs/myenv/lib/python3.7/site-packages/ipykernel_launcher.py:48: FutureWarning: set_value is deprecated and will be removed in a future release. Please use .at[] or .iat[] accessors instead\n"
     ]
    },
    {
     "data": {
      "image/png": "[encoded data removed]",
      "text/plain": [
       "<Figure size 432x288 with 2 Axes>"
      ]
     },
     "metadata": {
      "needs_background": "light"
     },
     "output_type": "display_data"
    }
   ],
   "source": [
    "from descartes import PolygonPatch\n",
    "import pysal as ps\n",
    "from matplotlib import pyplot as plt\n",
    "from matplotlib.patches import Polygon as mpl_Polygon\n",
    "from matplotlib.collections import PatchCollection\n",
    "shapefile = 'water/chicago_latlon.shp'\n",
    "parkshape = 'parks/chicago_parks1.shp'\n",
    "forestshape = 'forest/forest.shp'\n",
    "df_map_elements = gpd.GeoDataFrame.from_file(shapefile)\n",
    "df_map_elements_p = gpd.GeoDataFrame.from_file(parkshape)\n",
    "df_map_elements_f = gpd.GeoDataFrame.from_file(forestshape)\n",
    "\n",
    "df_map_elements[\"mpl_polygon\"] = np.nan\n",
    "df_map_elements['mpl_polygon'] = df_map_elements['mpl_polygon'].astype(object)\n",
    "df_map_elements_p['mpl_polygon'] = np.nan\n",
    "df_map_elements_p['mpl_polygon'] = df_map_elements_p['mpl_polygon'].astype(object)\n",
    "df_map_elements_f['mpl_polygon'] = np.nan\n",
    "df_map_elements_f['mpl_polygon'] = df_map_elements_f['mpl_polygon'].astype(object)\n",
    "\n",
    "for self_index, self_row_df in df_map_elements.iterrows():\n",
    "    m_polygon = self_row_df['geometry']\n",
    "    poly=[]\n",
    "    if m_polygon.geom_type == 'MultiPolygon':\n",
    "        for pol in m_polygon:\n",
    "            poly.append(PolygonPatch(pol))\n",
    "    else:\n",
    "        poly.append(PolygonPatch(m_polygon))\n",
    "    df_map_elements.set_value(self_index, 'mpl_polygon', poly)\n",
    "    \n",
    "for self_index, self_row_df in df_map_elements_f.iterrows():\n",
    "    m_polygon = self_row_df['geometry']\n",
    "    poly=[]\n",
    "    if m_polygon.geom_type == 'MultiPolygon':\n",
    "        for pol in m_polygon:\n",
    "            poly.append(PolygonPatch(pol))\n",
    "    else:\n",
    "        poly.append(PolygonPatch(m_polygon))\n",
    "    df_map_elements_f.set_value(self_index, 'mpl_polygon', poly)\n",
    "\n",
    "for self_index, self_row_df in df_map_elements_p.iterrows():\n",
    "    m_polygon = self_row_df['geometry']\n",
    "    poly=[]\n",
    "    if m_polygon.geom_type == 'MultiPolygon':\n",
    "        for pol in m_polygon:\n",
    "            poly.append(PolygonPatch(pol))\n",
    "    else:\n",
    "        poly.append(PolygonPatch(m_polygon))\n",
    "    df_map_elements_p.set_value(self_index, 'mpl_polygon', poly)\n",
    "\n",
    "dict_mapindex_mpl_polygon = df_map_elements['mpl_polygon'].to_dict()\n",
    "dict_mapindex_mpl_polygon_p = df_map_elements_p['mpl_polygon'].to_dict()\n",
    "dict_mapindex_mpl_polygon_f = df_map_elements_f['mpl_polygon'].to_dict()\n",
    "\n",
    "fig, ax = plt.subplots()\n",
    "for c_l ,patches in dict_mapindex_mpl_polygon_p.items():\n",
    "    p = PatchCollection(patches,color='darkgreen',lw=0.01,edgecolor='k')\n",
    "    ax.add_collection(p)\n",
    "for c_l ,patches in dict_mapindex_mpl_polygon_f.items():\n",
    "    p = PatchCollection(patches,color='darkgreen',lw=0.01,edgecolor='k')\n",
    "    ax.add_collection(p)\n",
    "\n",
    "cfig = plt.contourf(xx,yy,testY,5,alpha=1,cmap='RdYlGn_r',levels=np.arange(0,55,5))\n",
    "for c_l ,patches in dict_mapindex_mpl_polygon.items():\n",
    "    p = PatchCollection(patches,color='deepskyblue',lw=0.01,edgecolor='k')\n",
    "    ax.add_collection(p)\n",
    "cfig.set_clim(0, 50)\n",
    "plt.colorbar(cfig)\n",
    "plt.axis('equal')\n",
    "plt.xlim(-87.85,-87.531)\n",
    "plt.ylim(41.635,42.02)\n",
    "plt.savefig('map.png',dpi=300)"
   ]
  },
  {
   "cell_type": "code",
   "execution_count": 180,
   "metadata": {},
   "outputs": [],
   "source": [
    "dskey = '6864d54f724e54e7c3ae08094f523ff0'\n",
    "chicago = forecast(dskey, 41.95, -87.80)"
   ]
  },
  {
   "cell_type": "code",
   "execution_count": 184,
   "metadata": {},
   "outputs": [
    {
     "ename": "AttributeError",
     "evalue": "'DataPoint' object has no attribute 'temperature'",
     "output_type": "error",
     "traceback": [
      "\u001b[0;31m---------------------------------------------------------------------------\u001b[0m",
      "\u001b[0;31mAttributeError\u001b[0m                            Traceback (most recent call last)",
      "\u001b[0;32m<ipython-input-184-e7fe1406a445>\u001b[0m in \u001b[0;36m<module>\u001b[0;34m\u001b[0m\n\u001b[1;32m      1\u001b[0m \u001b[0;32mfor\u001b[0m \u001b[0mday\u001b[0m \u001b[0;32min\u001b[0m \u001b[0mchicago\u001b[0m\u001b[0;34m.\u001b[0m\u001b[0mdaily\u001b[0m\u001b[0;34m:\u001b[0m\u001b[0;34m\u001b[0m\u001b[0;34m\u001b[0m\u001b[0m\n\u001b[0;32m----> 2\u001b[0;31m     \u001b[0mprint\u001b[0m\u001b[0;34m(\u001b[0m\u001b[0mday\u001b[0m\u001b[0;34m.\u001b[0m\u001b[0mtemperature\u001b[0m\u001b[0;34m)\u001b[0m\u001b[0;34m\u001b[0m\u001b[0;34m\u001b[0m\u001b[0m\n\u001b[0m",
      "\u001b[0;31mAttributeError\u001b[0m: 'DataPoint' object has no attribute 'temperature'"
     ]
    }
   ],
   "source": [
    "for day in chicago.daily:\n",
    "    print(day.temperature)"
   ]
  },
  {
   "cell_type": "code",
   "execution_count": 2,
   "metadata": {},
   "outputs": [],
   "source": [
    "filename = 'lin_scaler.sav'\n",
    "pickle.dump(scaler, open(filename, 'wb'))\n",
    "load_model = pickle.load(open(filename, 'rb'))"
   ]
  },
  {
   "cell_type": "code",
   "execution_count": 192,
   "metadata": {},
   "outputs": [
    {
     "name": "stdout",
     "output_type": "stream",
     "text": [
      "2019-09-26 05:00:00\n"
     ]
    }
   ],
   "source": [
    "ts=1569474000\n",
    "print(dt.datetime.utcfromtimestamp(ts).strftime('%Y-%m-%d %H:%M:%S'))"
   ]
  },
  {
   "cell_type": "code",
   "execution_count": 247,
   "metadata": {},
   "outputs": [
    {
     "name": "stdout",
     "output_type": "stream",
     "text": [
      "2019-09-27T00:00:00\n"
     ]
    },
    {
     "ename": "IndexError",
     "evalue": "list index out of range",
     "output_type": "error",
     "traceback": [
      "\u001b[0;31m---------------------------------------------------------------------------\u001b[0m",
      "\u001b[0;31mIndexError\u001b[0m                                Traceback (most recent call last)",
      "\u001b[0;32m<ipython-input-247-f1297d5c2c35>\u001b[0m in \u001b[0;36m<module>\u001b[0;34m\u001b[0m\n\u001b[1;32m      3\u001b[0m \u001b[0mCHICAGO\u001b[0m \u001b[0;34m=\u001b[0m \u001b[0mdskey\u001b[0m\u001b[0;34m,\u001b[0m \u001b[0;36m41.95\u001b[0m\u001b[0;34m,\u001b[0m \u001b[0;34m-\u001b[0m\u001b[0;36m87.80\u001b[0m\u001b[0;34m\u001b[0m\u001b[0;34m\u001b[0m\u001b[0m\n\u001b[1;32m      4\u001b[0m \u001b[0mbacklog\u001b[0m \u001b[0;34m=\u001b[0m \u001b[0mforecast\u001b[0m\u001b[0;34m(\u001b[0m\u001b[0;34m*\u001b[0m\u001b[0mCHICAGO\u001b[0m\u001b[0;34m,\u001b[0m\u001b[0mtime\u001b[0m \u001b[0;34m=\u001b[0m \u001b[0mt\u001b[0m\u001b[0;34m)\u001b[0m\u001b[0;34m\u001b[0m\u001b[0;34m\u001b[0m\u001b[0m\n\u001b[0;32m----> 5\u001b[0;31m \u001b[0mbacklog\u001b[0m\u001b[0;34m.\u001b[0m\u001b[0mdaily\u001b[0m\u001b[0;34m[\u001b[0m\u001b[0;36m1\u001b[0m\u001b[0;34m]\u001b[0m\u001b[0;34m\u001b[0m\u001b[0;34m\u001b[0m\u001b[0m\n\u001b[0m",
      "\u001b[0;32m/Library/Frameworks/Python.framework/Versions/3.7/lib/python3.7/site-packages/darksky/data.py\u001b[0m in \u001b[0;36m__getitem__\u001b[0;34m(self, index)\u001b[0m\n\u001b[1;32m     48\u001b[0m         \u001b[0;32mif\u001b[0m \u001b[0misinstance\u001b[0m\u001b[0;34m(\u001b[0m\u001b[0mindex\u001b[0m\u001b[0;34m,\u001b[0m \u001b[0mstr\u001b[0m\u001b[0;34m)\u001b[0m\u001b[0;34m:\u001b[0m\u001b[0;34m\u001b[0m\u001b[0;34m\u001b[0m\u001b[0m\n\u001b[1;32m     49\u001b[0m             \u001b[0;32mreturn\u001b[0m \u001b[0mself\u001b[0m\u001b[0;34m.\u001b[0m\u001b[0m_data\u001b[0m\u001b[0;34m[\u001b[0m\u001b[0mindex\u001b[0m\u001b[0;34m]\u001b[0m\u001b[0;34m\u001b[0m\u001b[0;34m\u001b[0m\u001b[0m\n\u001b[0;32m---> 50\u001b[0;31m         \u001b[0;32mreturn\u001b[0m \u001b[0mself\u001b[0m\u001b[0;34m.\u001b[0m\u001b[0mdata\u001b[0m\u001b[0;34m.\u001b[0m\u001b[0m__getitem__\u001b[0m\u001b[0;34m(\u001b[0m\u001b[0mindex\u001b[0m\u001b[0;34m)\u001b[0m\u001b[0;34m\u001b[0m\u001b[0;34m\u001b[0m\u001b[0m\n\u001b[0m\u001b[1;32m     51\u001b[0m \u001b[0;34m\u001b[0m\u001b[0m\n\u001b[1;32m     52\u001b[0m     \u001b[0;32mdef\u001b[0m \u001b[0m__len__\u001b[0m\u001b[0;34m(\u001b[0m\u001b[0mself\u001b[0m\u001b[0;34m)\u001b[0m\u001b[0;34m:\u001b[0m\u001b[0;34m\u001b[0m\u001b[0;34m\u001b[0m\u001b[0m\n",
      "\u001b[0;31mIndexError\u001b[0m: list index out of range"
     ]
    }
   ],
   "source": [
    "t = pd.to_datetime('2019-09-27').isoformat()\n",
    "print(t)\n",
    "CHICAGO = dskey, 41.95, -87.80\n",
    "backlog = forecast(*CHICAGO,time = t)\n",
    "backlog.daily"
   ]
  },
  {
   "cell_type": "code",
   "execution_count": 225,
   "metadata": {},
   "outputs": [
    {
     "ename": "AttributeError",
     "evalue": "'DataPoint' object has no attribute 'temperature'",
     "output_type": "error",
     "traceback": [
      "\u001b[0;31m---------------------------------------------------------------------------\u001b[0m",
      "\u001b[0;31mAttributeError\u001b[0m                            Traceback (most recent call last)",
      "\u001b[0;32m<ipython-input-225-a7727209a2ea>\u001b[0m in \u001b[0;36m<module>\u001b[0;34m\u001b[0m\n\u001b[1;32m      1\u001b[0m \u001b[0;32mfor\u001b[0m \u001b[0mday\u001b[0m \u001b[0;32min\u001b[0m \u001b[0mbacklog\u001b[0m\u001b[0;34m.\u001b[0m\u001b[0mdaily\u001b[0m\u001b[0;34m:\u001b[0m\u001b[0;34m\u001b[0m\u001b[0;34m\u001b[0m\u001b[0m\n\u001b[0;32m----> 2\u001b[0;31m     \u001b[0mprint\u001b[0m\u001b[0;34m(\u001b[0m\u001b[0mdt\u001b[0m\u001b[0;34m.\u001b[0m\u001b[0mdatetime\u001b[0m\u001b[0;34m.\u001b[0m\u001b[0mutcfromtimestamp\u001b[0m\u001b[0;34m(\u001b[0m\u001b[0mday\u001b[0m\u001b[0;34m.\u001b[0m\u001b[0mtemperature\u001b[0m\u001b[0;34m)\u001b[0m\u001b[0;34m.\u001b[0m\u001b[0mstrftime\u001b[0m\u001b[0;34m(\u001b[0m\u001b[0;34m'%Y-%m-%d %H:%M:%S'\u001b[0m\u001b[0;34m)\u001b[0m\u001b[0;34m)\u001b[0m\u001b[0;34m\u001b[0m\u001b[0;34m\u001b[0m\u001b[0m\n\u001b[0m",
      "\u001b[0;31mAttributeError\u001b[0m: 'DataPoint' object has no attribute 'temperature'"
     ]
    }
   ],
   "source": [
    "for day in backlog.daily:\n",
    "    print(dt.datetime.utcfromtimestamp(day.temperature).strftime('%Y-%m-%d %H:%M:%S'))"
   ]
  },
  {
   "cell_type": "code",
   "execution_count": 31,
   "metadata": {},
   "outputs": [
    {
     "data": {
      "text/plain": [
       "Index(['Unnamed: 0', 'year', 'week', 'TEST ID', 'BLOCK', 'trap', 'TRAP_TYPE',\n",
       "       'date', 'num', 'RESULT', 'SPECIES', 'lat', 'lon', 'LOCATION', 'Wards',\n",
       "       'tract', 'zip', 'community', 'ward', 'geometry', 'd_water', 'd_park',\n",
       "       'd_lm', 'TH0', 'TL1', 'Tmax', 'Tmin', 'prec'],\n",
       "      dtype='object')"
      ]
     },
     "execution_count": 31,
     "metadata": {},
     "output_type": "execute_result"
    }
   ],
   "source": [
    "geo_data.columns"
   ]
  },
  {
   "cell_type": "code",
   "execution_count": 256,
   "metadata": {},
   "outputs": [],
   "source": [
    "tp = (dt.date.today() + pd.DateOffset(-1)).isoformat()"
   ]
  },
  {
   "cell_type": "code",
   "execution_count": 20,
   "metadata": {},
   "outputs": [],
   "source": [
    "def get_weather(input_date):\n",
    "    date = (pd.to_datetime(input_date)).date()\n",
    "    dskey = '6864d54f724e54e7c3ae08094f523ff0'\n",
    "    CHICAGO = dskey, 41.95, -87.80\n",
    "    deltaT = (date - dt.date.today()).days\n",
    "    prec = 0.0\n",
    "    Tmax = 0.0\n",
    "    Tmin = 100.0\n",
    "    TH0 = 0.0\n",
    "    TL1 = 0.0\n",
    "    if deltaT > 0:\n",
    "        fore_cast = forecast(*CHICAGO)\n",
    "        TH0 = fore_cast.daily[deltaT].temperatureHigh\n",
    "        TL1 = fore_cast.daily[deltaT-1].temperatureLow\n",
    "        for i in range(deltaT):\n",
    "            Tmax = max([fore_cast.daily[i].temperatureHigh, Tmax])\n",
    "            Tmin = min([fore_cast.daily[i].temperatureLow, Tmin])\n",
    "            prec += fore_cast.daily[i].precipIntensityMax\n",
    "    elif deltaT == 0:\n",
    "        fore_cast = forecast(*CHICAGO)\n",
    "        TH0 = fore_cast.daily[deltaT].temperatureHigh\n",
    "        Tmax = TH0\n",
    "        Tmin = fore_cast.daily[deltaT].temperatureLow\n",
    "    \n",
    "    N = 10 - deltaT\n",
    "    if N > 10:\n",
    "        N = 10\n",
    "    for i in range(N):\n",
    "        bt = (dt.date.today() + pd.DateOffset(deltaT - i)).isoformat()\n",
    "        backDay = forecast(*CHICAGO, time = bt)\n",
    "        if deltaT <= 0:\n",
    "            if i == 0:\n",
    "                TH0 = backDay.daily[0].temperatureHigh\n",
    "            elif i == 1:\n",
    "                TL1 = backDay.daily[0].temperatureLow\n",
    "        Tmax = max([Tmax,backDay.daily[0].temperatureHigh])\n",
    "        Tmin = min([Tmin,backDay.daily[0].temperatureLow])\n",
    "        prec += backDay.daily[0].precipIntensityMax\n",
    "    A={}\n",
    "    A['TH0']= TH0\n",
    "    A['TL1']= TL1\n",
    "    A['Tmax']= Tmax\n",
    "    A['Tmin']= Tmin\n",
    "    A['prec']= prec\n",
    "    return A\n"
   ]
  },
  {
   "cell_type": "code",
   "execution_count": 21,
   "metadata": {},
   "outputs": [
    {
     "ename": "HTTPError",
     "evalue": "Bad response",
     "output_type": "error",
     "traceback": [
      "\u001b[0;31m---------------------------------------------------------------------------\u001b[0m",
      "\u001b[0;31mHTTPError\u001b[0m                                 Traceback (most recent call last)",
      "\u001b[0;32m<ipython-input-21-c4c03b612ef1>\u001b[0m in \u001b[0;36m<module>\u001b[0;34m\u001b[0m\n\u001b[1;32m      1\u001b[0m \u001b[0mtp\u001b[0m \u001b[0;34m=\u001b[0m \u001b[0;34m(\u001b[0m\u001b[0mdt\u001b[0m\u001b[0;34m.\u001b[0m\u001b[0mdate\u001b[0m\u001b[0;34m.\u001b[0m\u001b[0mtoday\u001b[0m\u001b[0;34m(\u001b[0m\u001b[0;34m)\u001b[0m \u001b[0;34m+\u001b[0m \u001b[0mpd\u001b[0m\u001b[0;34m.\u001b[0m\u001b[0mDateOffset\u001b[0m\u001b[0;34m(\u001b[0m\u001b[0;34m-\u001b[0m\u001b[0;36m1\u001b[0m\u001b[0;34m)\u001b[0m\u001b[0;34m)\u001b[0m\u001b[0;34m.\u001b[0m\u001b[0misoformat\u001b[0m\u001b[0;34m(\u001b[0m\u001b[0;34m)\u001b[0m\u001b[0;34m\u001b[0m\u001b[0;34m\u001b[0m\u001b[0m\n\u001b[0;32m----> 2\u001b[0;31m \u001b[0mA\u001b[0m \u001b[0;34m=\u001b[0m \u001b[0mget_weather\u001b[0m\u001b[0;34m(\u001b[0m\u001b[0mtp\u001b[0m\u001b[0;34m)\u001b[0m\u001b[0;34m\u001b[0m\u001b[0;34m\u001b[0m\u001b[0m\n\u001b[0m",
      "\u001b[0;32m<ipython-input-20-a4118960ee1f>\u001b[0m in \u001b[0;36mget_weather\u001b[0;34m(input_date)\u001b[0m\n\u001b[1;32m     28\u001b[0m     \u001b[0;32mfor\u001b[0m \u001b[0mi\u001b[0m \u001b[0;32min\u001b[0m \u001b[0mrange\u001b[0m\u001b[0;34m(\u001b[0m\u001b[0mN\u001b[0m\u001b[0;34m)\u001b[0m\u001b[0;34m:\u001b[0m\u001b[0;34m\u001b[0m\u001b[0;34m\u001b[0m\u001b[0m\n\u001b[1;32m     29\u001b[0m         \u001b[0mbt\u001b[0m \u001b[0;34m=\u001b[0m \u001b[0;34m(\u001b[0m\u001b[0mdt\u001b[0m\u001b[0;34m.\u001b[0m\u001b[0mdate\u001b[0m\u001b[0;34m.\u001b[0m\u001b[0mtoday\u001b[0m\u001b[0;34m(\u001b[0m\u001b[0;34m)\u001b[0m \u001b[0;34m+\u001b[0m \u001b[0mpd\u001b[0m\u001b[0;34m.\u001b[0m\u001b[0mDateOffset\u001b[0m\u001b[0;34m(\u001b[0m\u001b[0mdeltaT\u001b[0m \u001b[0;34m-\u001b[0m \u001b[0mi\u001b[0m\u001b[0;34m)\u001b[0m\u001b[0;34m)\u001b[0m\u001b[0;34m.\u001b[0m\u001b[0misoformat\u001b[0m\u001b[0;34m(\u001b[0m\u001b[0;34m)\u001b[0m\u001b[0;34m\u001b[0m\u001b[0;34m\u001b[0m\u001b[0m\n\u001b[0;32m---> 30\u001b[0;31m         \u001b[0mbackDay\u001b[0m \u001b[0;34m=\u001b[0m \u001b[0mforecast\u001b[0m\u001b[0;34m(\u001b[0m\u001b[0;34m*\u001b[0m\u001b[0mCHICAGO\u001b[0m\u001b[0;34m,\u001b[0m \u001b[0mtime\u001b[0m \u001b[0;34m=\u001b[0m \u001b[0mbt\u001b[0m\u001b[0;34m)\u001b[0m\u001b[0;34m\u001b[0m\u001b[0;34m\u001b[0m\u001b[0m\n\u001b[0m\u001b[1;32m     31\u001b[0m         \u001b[0;32mif\u001b[0m \u001b[0mdeltaT\u001b[0m \u001b[0;34m<=\u001b[0m \u001b[0;36m0\u001b[0m\u001b[0;34m:\u001b[0m\u001b[0;34m\u001b[0m\u001b[0;34m\u001b[0m\u001b[0m\n\u001b[1;32m     32\u001b[0m             \u001b[0;32mif\u001b[0m \u001b[0mi\u001b[0m \u001b[0;34m==\u001b[0m \u001b[0;36m0\u001b[0m\u001b[0;34m:\u001b[0m\u001b[0;34m\u001b[0m\u001b[0;34m\u001b[0m\u001b[0m\n",
      "\u001b[0;32m/Library/Frameworks/Python.framework/Versions/3.7/lib/python3.7/site-packages/darksky/__init__.py\u001b[0m in \u001b[0;36mforecast\u001b[0;34m(key, latitude, longitude, time, timeout, **queries)\u001b[0m\n\u001b[1;32m      5\u001b[0m \u001b[0;34m\u001b[0m\u001b[0m\n\u001b[1;32m      6\u001b[0m \u001b[0;32mdef\u001b[0m \u001b[0mforecast\u001b[0m\u001b[0;34m(\u001b[0m\u001b[0mkey\u001b[0m\u001b[0;34m,\u001b[0m \u001b[0mlatitude\u001b[0m\u001b[0;34m,\u001b[0m \u001b[0mlongitude\u001b[0m\u001b[0;34m,\u001b[0m \u001b[0mtime\u001b[0m\u001b[0;34m=\u001b[0m\u001b[0;32mNone\u001b[0m\u001b[0;34m,\u001b[0m \u001b[0mtimeout\u001b[0m\u001b[0;34m=\u001b[0m\u001b[0;32mNone\u001b[0m\u001b[0;34m,\u001b[0m \u001b[0;34m**\u001b[0m\u001b[0mqueries\u001b[0m\u001b[0;34m)\u001b[0m\u001b[0;34m:\u001b[0m\u001b[0;34m\u001b[0m\u001b[0;34m\u001b[0m\u001b[0m\n\u001b[0;32m----> 7\u001b[0;31m     \u001b[0;32mreturn\u001b[0m \u001b[0mForecast\u001b[0m\u001b[0;34m(\u001b[0m\u001b[0mkey\u001b[0m\u001b[0;34m,\u001b[0m \u001b[0mlatitude\u001b[0m\u001b[0;34m,\u001b[0m \u001b[0mlongitude\u001b[0m\u001b[0;34m,\u001b[0m \u001b[0mtime\u001b[0m\u001b[0;34m,\u001b[0m \u001b[0mtimeout\u001b[0m\u001b[0;34m,\u001b[0m \u001b[0;34m**\u001b[0m\u001b[0mqueries\u001b[0m\u001b[0;34m)\u001b[0m\u001b[0;34m\u001b[0m\u001b[0;34m\u001b[0m\u001b[0m\n\u001b[0m",
      "\u001b[0;32m/Library/Frameworks/Python.framework/Versions/3.7/lib/python3.7/site-packages/darksky/forecast.py\u001b[0m in \u001b[0;36m__init__\u001b[0;34m(self, key, latitude, longitude, time, timeout, **queries)\u001b[0m\n\u001b[1;32m     15\u001b[0m     \u001b[0;32mdef\u001b[0m \u001b[0m__init__\u001b[0m\u001b[0;34m(\u001b[0m\u001b[0mself\u001b[0m\u001b[0;34m,\u001b[0m \u001b[0mkey\u001b[0m\u001b[0;34m,\u001b[0m \u001b[0mlatitude\u001b[0m\u001b[0;34m,\u001b[0m \u001b[0mlongitude\u001b[0m\u001b[0;34m,\u001b[0m \u001b[0mtime\u001b[0m\u001b[0;34m=\u001b[0m\u001b[0;32mNone\u001b[0m\u001b[0;34m,\u001b[0m \u001b[0mtimeout\u001b[0m\u001b[0;34m=\u001b[0m\u001b[0;32mNone\u001b[0m\u001b[0;34m,\u001b[0m \u001b[0;34m**\u001b[0m\u001b[0mqueries\u001b[0m\u001b[0;34m)\u001b[0m\u001b[0;34m:\u001b[0m\u001b[0;34m\u001b[0m\u001b[0;34m\u001b[0m\u001b[0m\n\u001b[1;32m     16\u001b[0m         \u001b[0mself\u001b[0m\u001b[0;34m.\u001b[0m\u001b[0m_parameters\u001b[0m \u001b[0;34m=\u001b[0m \u001b[0mdict\u001b[0m\u001b[0;34m(\u001b[0m\u001b[0mkey\u001b[0m\u001b[0;34m=\u001b[0m\u001b[0mkey\u001b[0m\u001b[0;34m,\u001b[0m \u001b[0mlatitude\u001b[0m\u001b[0;34m=\u001b[0m\u001b[0mlatitude\u001b[0m\u001b[0;34m,\u001b[0m \u001b[0mlongitude\u001b[0m\u001b[0;34m=\u001b[0m\u001b[0mlongitude\u001b[0m\u001b[0;34m,\u001b[0m \u001b[0mtime\u001b[0m\u001b[0;34m=\u001b[0m\u001b[0mtime\u001b[0m\u001b[0;34m)\u001b[0m\u001b[0;34m\u001b[0m\u001b[0;34m\u001b[0m\u001b[0m\n\u001b[0;32m---> 17\u001b[0;31m         \u001b[0mself\u001b[0m\u001b[0;34m.\u001b[0m\u001b[0mrefresh\u001b[0m\u001b[0;34m(\u001b[0m\u001b[0mtimeout\u001b[0m\u001b[0;34m,\u001b[0m \u001b[0;34m**\u001b[0m\u001b[0mqueries\u001b[0m\u001b[0;34m)\u001b[0m\u001b[0;34m\u001b[0m\u001b[0;34m\u001b[0m\u001b[0m\n\u001b[0m\u001b[1;32m     18\u001b[0m \u001b[0;34m\u001b[0m\u001b[0m\n\u001b[1;32m     19\u001b[0m     \u001b[0;32mdef\u001b[0m \u001b[0m__setattr__\u001b[0m\u001b[0;34m(\u001b[0m\u001b[0mself\u001b[0m\u001b[0;34m,\u001b[0m \u001b[0mkey\u001b[0m\u001b[0;34m,\u001b[0m \u001b[0mvalue\u001b[0m\u001b[0;34m)\u001b[0m\u001b[0;34m:\u001b[0m\u001b[0;34m\u001b[0m\u001b[0;34m\u001b[0m\u001b[0m\n",
      "\u001b[0;32m/Library/Frameworks/Python.framework/Versions/3.7/lib/python3.7/site-packages/darksky/forecast.py\u001b[0m in \u001b[0;36mrefresh\u001b[0;34m(self, timeout, **queries)\u001b[0m\n\u001b[1;32m     52\u001b[0m         \u001b[0mself\u001b[0m\u001b[0;34m.\u001b[0m\u001b[0mresponse_headers\u001b[0m \u001b[0;34m=\u001b[0m \u001b[0mresponse\u001b[0m\u001b[0;34m.\u001b[0m\u001b[0mheaders\u001b[0m\u001b[0;34m\u001b[0m\u001b[0;34m\u001b[0m\u001b[0m\n\u001b[1;32m     53\u001b[0m         \u001b[0;32mif\u001b[0m \u001b[0mresponse\u001b[0m\u001b[0;34m.\u001b[0m\u001b[0mstatus_code\u001b[0m \u001b[0;32mis\u001b[0m \u001b[0;32mnot\u001b[0m \u001b[0;36m200\u001b[0m\u001b[0;34m:\u001b[0m\u001b[0;34m\u001b[0m\u001b[0;34m\u001b[0m\u001b[0m\n\u001b[0;32m---> 54\u001b[0;31m             \u001b[0;32mraise\u001b[0m \u001b[0mrequests\u001b[0m\u001b[0;34m.\u001b[0m\u001b[0mexceptions\u001b[0m\u001b[0;34m.\u001b[0m\u001b[0mHTTPError\u001b[0m\u001b[0;34m(\u001b[0m\u001b[0;34m'Bad response'\u001b[0m\u001b[0;34m)\u001b[0m\u001b[0;34m\u001b[0m\u001b[0;34m\u001b[0m\u001b[0m\n\u001b[0m\u001b[1;32m     55\u001b[0m         \u001b[0;32mreturn\u001b[0m \u001b[0msuper\u001b[0m\u001b[0;34m(\u001b[0m\u001b[0;34m)\u001b[0m\u001b[0;34m.\u001b[0m\u001b[0m__init__\u001b[0m\u001b[0;34m(\u001b[0m\u001b[0mjson\u001b[0m\u001b[0;34m.\u001b[0m\u001b[0mloads\u001b[0m\u001b[0;34m(\u001b[0m\u001b[0mresponse\u001b[0m\u001b[0;34m.\u001b[0m\u001b[0mtext\u001b[0m\u001b[0;34m)\u001b[0m\u001b[0;34m)\u001b[0m\u001b[0;34m\u001b[0m\u001b[0;34m\u001b[0m\u001b[0m\n",
      "\u001b[0;31mHTTPError\u001b[0m: Bad response"
     ]
    }
   ],
   "source": [
    "tp = (dt.date.today() + pd.DateOffset(-1)).isoformat()\n",
    "A = get_weather(tp)"
   ]
  },
  {
   "cell_type": "code",
   "execution_count": 270,
   "metadata": {},
   "outputs": [],
   "source": [
    "def build_input(date):\n",
    "    A = get_weather(date)\n",
    "    GD = pd.read_csv('gridpoints.csv')\n",
    "    GD['TH0'] = A['TH0']\n",
    "    GD['TL1'] = A['TL1']\n",
    "    GD['Tmax'] = A['Tmax']\n",
    "    GD['Tmin'] = A['Tmin']\n",
    "    GD['prec'] = A['prec']\n",
    "    return GD"
   ]
  },
  {
   "cell_type": "code",
   "execution_count": 276,
   "metadata": {},
   "outputs": [
    {
     "data": {
      "text/html": [
       "<div>\n",
       "<style scoped>\n",
       "    .dataframe tbody tr th:only-of-type {\n",
       "        vertical-align: middle;\n",
       "    }\n",
       "\n",
       "    .dataframe tbody tr th {\n",
       "        vertical-align: top;\n",
       "    }\n",
       "\n",
       "    .dataframe thead th {\n",
       "        text-align: right;\n",
       "    }\n",
       "</style>\n",
       "<table border=\"1\" class=\"dataframe\">\n",
       "  <thead>\n",
       "    <tr style=\"text-align: right;\">\n",
       "      <th></th>\n",
       "      <th>Unnamed: 0</th>\n",
       "      <th>lat</th>\n",
       "      <th>lon</th>\n",
       "      <th>d_water</th>\n",
       "      <th>d_park</th>\n",
       "      <th>TH0</th>\n",
       "      <th>TL1</th>\n",
       "      <th>Tmax</th>\n",
       "      <th>Tmin</th>\n",
       "      <th>prec</th>\n",
       "    </tr>\n",
       "  </thead>\n",
       "  <tbody>\n",
       "    <tr>\n",
       "      <td>0</td>\n",
       "      <td>0</td>\n",
       "      <td>41.644720</td>\n",
       "      <td>-87.854473</td>\n",
       "      <td>0.123963</td>\n",
       "      <td>0.140206</td>\n",
       "      <td>79.25</td>\n",
       "      <td>64.14</td>\n",
       "      <td>84.25</td>\n",
       "      <td>56.75</td>\n",
       "      <td>0.3664</td>\n",
       "    </tr>\n",
       "    <tr>\n",
       "      <td>1</td>\n",
       "      <td>1</td>\n",
       "      <td>41.652182</td>\n",
       "      <td>-87.854473</td>\n",
       "      <td>0.121492</td>\n",
       "      <td>0.136243</td>\n",
       "      <td>79.25</td>\n",
       "      <td>64.14</td>\n",
       "      <td>84.25</td>\n",
       "      <td>56.75</td>\n",
       "      <td>0.3664</td>\n",
       "    </tr>\n",
       "    <tr>\n",
       "      <td>2</td>\n",
       "      <td>2</td>\n",
       "      <td>41.659643</td>\n",
       "      <td>-87.854473</td>\n",
       "      <td>0.119437</td>\n",
       "      <td>0.129447</td>\n",
       "      <td>79.25</td>\n",
       "      <td>64.14</td>\n",
       "      <td>84.25</td>\n",
       "      <td>56.75</td>\n",
       "      <td>0.3664</td>\n",
       "    </tr>\n",
       "    <tr>\n",
       "      <td>3</td>\n",
       "      <td>3</td>\n",
       "      <td>41.667105</td>\n",
       "      <td>-87.854473</td>\n",
       "      <td>0.117814</td>\n",
       "      <td>0.122728</td>\n",
       "      <td>79.25</td>\n",
       "      <td>64.14</td>\n",
       "      <td>84.25</td>\n",
       "      <td>56.75</td>\n",
       "      <td>0.3664</td>\n",
       "    </tr>\n",
       "    <tr>\n",
       "      <td>4</td>\n",
       "      <td>4</td>\n",
       "      <td>41.674567</td>\n",
       "      <td>-87.854473</td>\n",
       "      <td>0.116645</td>\n",
       "      <td>0.116101</td>\n",
       "      <td>79.25</td>\n",
       "      <td>64.14</td>\n",
       "      <td>84.25</td>\n",
       "      <td>56.75</td>\n",
       "      <td>0.3664</td>\n",
       "    </tr>\n",
       "    <tr>\n",
       "      <td>...</td>\n",
       "      <td>...</td>\n",
       "      <td>...</td>\n",
       "      <td>...</td>\n",
       "      <td>...</td>\n",
       "      <td>...</td>\n",
       "      <td>...</td>\n",
       "      <td>...</td>\n",
       "      <td>...</td>\n",
       "      <td>...</td>\n",
       "      <td>...</td>\n",
       "    </tr>\n",
       "    <tr>\n",
       "      <td>2596</td>\n",
       "      <td>2596</td>\n",
       "      <td>41.987954</td>\n",
       "      <td>-87.531060</td>\n",
       "      <td>0.000000</td>\n",
       "      <td>0.101704</td>\n",
       "      <td>79.25</td>\n",
       "      <td>64.14</td>\n",
       "      <td>84.25</td>\n",
       "      <td>56.75</td>\n",
       "      <td>0.3664</td>\n",
       "    </tr>\n",
       "    <tr>\n",
       "      <td>2597</td>\n",
       "      <td>2597</td>\n",
       "      <td>41.995416</td>\n",
       "      <td>-87.531060</td>\n",
       "      <td>0.000000</td>\n",
       "      <td>0.103391</td>\n",
       "      <td>79.25</td>\n",
       "      <td>64.14</td>\n",
       "      <td>84.25</td>\n",
       "      <td>56.75</td>\n",
       "      <td>0.3664</td>\n",
       "    </tr>\n",
       "    <tr>\n",
       "      <td>2598</td>\n",
       "      <td>2598</td>\n",
       "      <td>42.002878</td>\n",
       "      <td>-87.531060</td>\n",
       "      <td>0.000000</td>\n",
       "      <td>0.105578</td>\n",
       "      <td>79.25</td>\n",
       "      <td>64.14</td>\n",
       "      <td>84.25</td>\n",
       "      <td>56.75</td>\n",
       "      <td>0.3664</td>\n",
       "    </tr>\n",
       "    <tr>\n",
       "      <td>2599</td>\n",
       "      <td>2599</td>\n",
       "      <td>42.010339</td>\n",
       "      <td>-87.531060</td>\n",
       "      <td>0.000000</td>\n",
       "      <td>0.108235</td>\n",
       "      <td>79.25</td>\n",
       "      <td>64.14</td>\n",
       "      <td>84.25</td>\n",
       "      <td>56.75</td>\n",
       "      <td>0.3664</td>\n",
       "    </tr>\n",
       "    <tr>\n",
       "      <td>2600</td>\n",
       "      <td>2600</td>\n",
       "      <td>42.017801</td>\n",
       "      <td>-87.531060</td>\n",
       "      <td>0.000000</td>\n",
       "      <td>0.111328</td>\n",
       "      <td>79.25</td>\n",
       "      <td>64.14</td>\n",
       "      <td>84.25</td>\n",
       "      <td>56.75</td>\n",
       "      <td>0.3664</td>\n",
       "    </tr>\n",
       "  </tbody>\n",
       "</table>\n",
       "<p>2601 rows × 10 columns</p>\n",
       "</div>"
      ],
      "text/plain": [
       "      Unnamed: 0        lat        lon   d_water    d_park    TH0    TL1  \\\n",
       "0              0  41.644720 -87.854473  0.123963  0.140206  79.25  64.14   \n",
       "1              1  41.652182 -87.854473  0.121492  0.136243  79.25  64.14   \n",
       "2              2  41.659643 -87.854473  0.119437  0.129447  79.25  64.14   \n",
       "3              3  41.667105 -87.854473  0.117814  0.122728  79.25  64.14   \n",
       "4              4  41.674567 -87.854473  0.116645  0.116101  79.25  64.14   \n",
       "...          ...        ...        ...       ...       ...    ...    ...   \n",
       "2596        2596  41.987954 -87.531060  0.000000  0.101704  79.25  64.14   \n",
       "2597        2597  41.995416 -87.531060  0.000000  0.103391  79.25  64.14   \n",
       "2598        2598  42.002878 -87.531060  0.000000  0.105578  79.25  64.14   \n",
       "2599        2599  42.010339 -87.531060  0.000000  0.108235  79.25  64.14   \n",
       "2600        2600  42.017801 -87.531060  0.000000  0.111328  79.25  64.14   \n",
       "\n",
       "       Tmax   Tmin    prec  \n",
       "0     84.25  56.75  0.3664  \n",
       "1     84.25  56.75  0.3664  \n",
       "2     84.25  56.75  0.3664  \n",
       "3     84.25  56.75  0.3664  \n",
       "4     84.25  56.75  0.3664  \n",
       "...     ...    ...     ...  \n",
       "2596  84.25  56.75  0.3664  \n",
       "2597  84.25  56.75  0.3664  \n",
       "2598  84.25  56.75  0.3664  \n",
       "2599  84.25  56.75  0.3664  \n",
       "2600  84.25  56.75  0.3664  \n",
       "\n",
       "[2601 rows x 10 columns]"
      ]
     },
     "execution_count": 276,
     "metadata": {},
     "output_type": "execute_result"
    }
   ],
   "source": [
    "GD = build_input(tp)\n",
    "GD"
   ]
  },
  {
   "cell_type": "code",
   "execution_count": 302,
   "metadata": {},
   "outputs": [],
   "source": [
    "def runmodel(date):\n",
    "    filename = 'data/lin_model.sav'\n",
    "    lin = pickle.load(open(filename, 'rb'))\n",
    "    testX = build_input(date)[['lat','lon','TH0','TL1','Tmax','Tmin']]\n",
    "    #testX = build_input(date)[['lat','lon','d_water','d_park','TH0','TL1','Tmax','Tmin','prec']]\n",
    "    TT = lin.predict(testX)\n",
    "    res = pd.DataFrame()\n",
    "    res['lat'] = testX['lat']\n",
    "    res['lon'] = testX['lon']\n",
    "    res['M'] = TT\n",
    "    lonmin = min(res['lon'])\n",
    "    lonmax = max(res['lon'])\n",
    "    lonmin = min(res['lat'])\n",
    "    lonmax = max(res['lat'])\n",
    "    A={}\n",
    "    A['io'] = res\n",
    "    A['xx'] = np.linspace(lonmin,lonmax,51)\n",
    "    A['yy'] = np.linspace(lonmin,lonmax,51)\n",
    "    A['MM'] = res['M'].values.reshape(51,51).transpose()\n",
    "    return A"
   ]
  },
  {
   "cell_type": "code",
   "execution_count": 306,
   "metadata": {},
   "outputs": [],
   "source": [
    "A = runmodel(tp)"
   ]
  },
  {
   "cell_type": "code",
   "execution_count": 307,
   "metadata": {},
   "outputs": [
    {
     "data": {
      "text/plain": [
       "<matplotlib.contour.QuadContourSet at 0x154de3b90>"
      ]
     },
     "execution_count": 307,
     "metadata": {},
     "output_type": "execute_result"
    },
    {
     "data": {
      "image/png": "[encoded data removed]",
      "text/plain": [
       "<Figure size 432x288 with 1 Axes>"
      ]
     },
     "metadata": {
      "needs_background": "light"
     },
     "output_type": "display_data"
    }
   ],
   "source": [
    "plt.contourf(A['xx'],A['yy'],A['MM'],5,alpha=1.0)"
   ]
  },
  {
   "cell_type": "code",
   "execution_count": 298,
   "metadata": {},
   "outputs": [
    {
     "ename": "TypeError",
     "evalue": "reshape() takes exactly 1 argument (0 given)",
     "output_type": "error",
     "traceback": [
      "\u001b[0;31m---------------------------------------------------------------------------\u001b[0m",
      "\u001b[0;31mTypeError\u001b[0m                                 Traceback (most recent call last)",
      "\u001b[0;32m<ipython-input-298-01a2fc69201c>\u001b[0m in \u001b[0;36m<module>\u001b[0;34m\u001b[0m\n\u001b[0;32m----> 1\u001b[0;31m \u001b[0mres\u001b[0m\u001b[0;34m[\u001b[0m\u001b[0;34m'M'\u001b[0m\u001b[0;34m]\u001b[0m\u001b[0;34m.\u001b[0m\u001b[0mvalues\u001b[0m\u001b[0;34m.\u001b[0m\u001b[0mreshape\u001b[0m\u001b[0;34m(\u001b[0m\u001b[0;34m)\u001b[0m\u001b[0;34m\u001b[0m\u001b[0;34m\u001b[0m\u001b[0m\n\u001b[0m",
      "\u001b[0;31mTypeError\u001b[0m: reshape() takes exactly 1 argument (0 given)"
     ]
    }
   ],
   "source": [
    "res['M'].values.reshape()"
   ]
  },
  {
   "cell_type": "code",
   "execution_count": 339,
   "metadata": {},
   "outputs": [],
   "source": [
    "def get_cv_score_linear_model(X, yin):\n",
    "    LModel = LinearRegression()\n",
    "    scaler = RobustScaler()\n",
    "    pipe = Pipeline(steps=[('scaler', scaler), ('linear', LModel)])\n",
    "    cv_results = cross_validate(pipe, X, yin, cv = 5, n_jobs = -1,\n",
    "                                scoring = ('r2', 'neg_mean_absolute_error'),\n",
    "                                verbose = 0)\n",
    "\n",
    "    mae_mean_score = -cv_results['test_neg_mean_absolute_error'].mean()\n",
    "    r2_mean_score = -cv_results['test_r2'].mean()\n",
    "    regr = LinearRegression()\n",
    "    pipe = Pipeline(steps=[('scaler', scaler), ('linear', regr)])\n",
    "    pipe.fit(X, yin)\n",
    "    \n",
    "    return mae_mean_score, r2_mean_score, pipe"
   ]
  },
  {
   "cell_type": "code",
   "execution_count": 340,
   "metadata": {},
   "outputs": [],
   "source": [
    "a,b,pipe = get_cv_score_linear_model(trainX,trainy)"
   ]
  },
  {
   "cell_type": "code",
   "execution_count": 23,
   "metadata": {},
   "outputs": [],
   "source": [
    "import requests\n",
    "resp=requests.get('https://api.darksky.net/forecast/'+dskey+'/42.3601,-71.0589')"
   ]
  },
  {
   "cell_type": "code",
   "execution_count": 25,
   "metadata": {},
   "outputs": [
    {
     "data": {
      "text/plain": [
       "'{\"code\":403,\"error\":\"daily usage limit exceeded\"}'"
      ]
     },
     "execution_count": 25,
     "metadata": {},
     "output_type": "execute_result"
    }
   ],
   "source": [
    "resp.text"
   ]
  },
  {
   "cell_type": "code",
   "execution_count": 37,
   "metadata": {},
   "outputs": [
    {
     "data": {
      "image/png": "[encoded data removed]",
      "text/plain": [
       "<Figure size 288x288 with 1 Axes>"
      ]
     },
     "metadata": {
      "needs_background": "light"
     },
     "output_type": "display_data"
    }
   ],
   "source": [
    "plt.matshow(feature_data.corr())\n",
    "plt.show()"
   ]
  },
  {
   "cell_type": "code",
   "execution_count": 43,
   "metadata": {},
   "outputs": [
    {
     "data": {
      "image/png": "[encoded data removed]",
      "text/plain": [
       "<Figure size 432x288 with 1 Axes>"
      ]
     },
     "metadata": {
      "needs_background": "light"
     },
     "output_type": "display_data"
    }
   ],
   "source": [
    "plt.hist(feature_data['sqrt_dl'])\n",
    "plt.show()"
   ]
  },
  {
   "cell_type": "code",
   "execution_count": 4,
   "metadata": {},
   "outputs": [],
   "source": [
    "crs = {'init': 'epsg:4326'}\n",
    "geogrid = pd.read_csv('gridpoints.csv')\n",
    "water_map = gpd.read_file('water/chicago_latlon.shp')\n",
    "lake_MI = water_map[water_map.NAME == 'LAKE MICHIGAN']\n",
    "\n",
    "geometry = [Point(xy) for xy in zip(geogrid.lon,geogrid.lat)]\n",
    "grid = gpd.GeoDataFrame(geogrid, crs = crs, geometry = geometry)\n",
    "grid = grid.reset_index(drop=False)\n",
    "\n",
    "for i,point in grid.iterrows():\n",
    "    for j,mi in lake_MI.iterrows():\n",
    "        grid.loc[i,'d_lm'] = point['geometry'].distance(mi['geometry'])\n"
   ]
  },
  {
   "cell_type": "code",
   "execution_count": 5,
   "metadata": {},
   "outputs": [],
   "source": [
    "grid.to_csv('gridlake.csv')"
   ]
  },
  {
   "cell_type": "code",
   "execution_count": null,
   "metadata": {},
   "outputs": [],
   "source": [
    "import numpy as np \n",
    "import pandas as pd\n",
    "from datetime import datetime as dt\n",
    "\n",
    "import matplotlib.pyplot as plt\n",
    "import seaborn as sns\n",
    "from sklearn.linear_model import LinearRegression\n",
    "import pickle\n",
    "\n",
    "def runmodel(date):\n",
    "    filename = 'data/lin_model.sav'\n",
    "    lin = pickle.load(open(filename, 'rb'))\n",
    "    testX = build_input(date)\n",
    "    TT = lin.predict(testX)\n",
    "    res = pd.DataFrame({'lat':testX['lat'],'lon':testY['lon'],'M':TT})\n",
    "    map_plot(res)\n",
    "    return\n",
    "\n",
    "def bin_output(A,div=5):\n",
    "    B = np.ceil(div*A)\n",
    "    return B\n",
    "\n",
    "def map_plot(res):\n",
    "    xx = res['lon']\n",
    "    yy = res['lat']\n",
    "    M = res['M']\n",
    "    plt.contourf(xx,yy,M,5,alpha=1.0)\n",
    "    plt.axis('equal')\n",
    "    plt.colorbar()\n",
    "    plt.savefig('flaskapp/static/map.png',dpi=200)\n",
    "    return\n",
    "def get_weather(input_date):\n",
    "    date = (pd.to_datetime(input_date)).date()\n",
    "    dskey = '6864d54f724e54e7c3ae08094f523ff0'\n",
    "    CHICAGO = dskey, 41.95, -87.80\n",
    "    deltaT = (date - dt.date.today()).days\n",
    "    prec = 0.0\n",
    "    Tmax = 0.0\n",
    "    Tmin = 100.0\n",
    "    TH0 = 0.0\n",
    "    TL1 = 0.0\n",
    "    if deltaT > 0:\n",
    "        fore_cast = forecast(*CHICAGO)\n",
    "        TH0 = fore_cast.daily[deltaT].temperatureHigh\n",
    "        TL1 = fore_cast.daily[deltaT-1].temperatureLow\n",
    "        for i in range(deltaT):\n",
    "            Tmax = max([fore_cast.daily[i].temperatureHigh, Tmax])\n",
    "            Tmin = min([fore_cast.daily[i].temperatureLow, Tmin])\n",
    "            prec += fore_cast.daily[i].precipIntensityMax\n",
    "    elif deltaT == 0:\n",
    "        fore_cast = forecast(*CHICAGO)\n",
    "        TH0 = fore_cast.daily[deltaT].temperatureHigh\n",
    "        Tmax = TH0\n",
    "        Tmin = fore_cast.daily[deltaT].temperatureLow\n",
    "\n",
    "    N = 10 - deltaT\n",
    "    if N > 10:\n",
    "        N = 10\n",
    "    for i in range(N):\n",
    "        bt = (dt.date.today() + pd.DateOffset(deltaT - i)).isoformat()\n",
    "        backDay = forecast(*CHICAGO, time = bt)\n",
    "        if deltaT <= 0:\n",
    "            if i == 0:\n",
    "                TH0 = backDay.daily[0].temperatureHigh\n",
    "            elif i == 1:\n",
    "                TL1 = backDay.daily[0].temperatureLow\n",
    "        Tmax = max([Tmax,backDay.daily[0].temperatureHigh])\n",
    "        Tmin = min([Tmin,backDay.daily[0].temperatureLow])\n",
    "        prec += backDay.daily[0].precipIntensityMax\n",
    "    A={}\n",
    "    A['TH0']= TH0\n",
    "    A['TL1']= TL1\n",
    "    A['Tmax']= Tmax\n",
    "    A['Tmin']= Tmin\n",
    "    A['prec']= prec\n",
    "    return A\n",
    "\n",
    "def build_input(date):\n",
    "    A = get_weather(date)\n",
    "    GD = pd.read_csv('data/gridpoints.csv')\n",
    "    GD['TH0'] = A['TH0']\n",
    "    GD['TL1'] = A['TL1']\n",
    "    GD['Tmax'] = A['Tmax']\n",
    "    GD['Tmin'] = A['Tmin']\n",
    "    GD['prec'] = A['prec']\n",
    "    return GD"
   ]
  }
 ],
 "metadata": {
  "kernelspec": {
   "display_name": "myenv",
   "language": "python",
   "name": "myenv"
  },
  "language_info": {
   "codemirror_mode": {
    "name": "ipython",
    "version": 3
   },
   "file_extension": ".py",
   "mimetype": "text/x-python",
   "name": "python",
   "nbconvert_exporter": "python",
   "pygments_lexer": "ipython3",
   "version": "3.7.3"
  }
 },
 "nbformat": 4,
 "nbformat_minor": 2
}
