{
 "cells": [
  {
   "cell_type": "code",
   "execution_count": 1,
   "metadata": {},
   "outputs": [],
   "source": [
    "import numpy as np\n",
    "import pandas as pd\n",
    "import geopandas as gpd\n",
    "import matplotlib as mpl\n",
    "import matplotlib.pyplot as plt\n",
    "import seaborn as sns\n",
    "import datetime as dt\n",
    "from sklearn.linear_model import LinearRegression\n",
    "from sklearn.preprocessing import RobustScaler, PowerTransformer\n",
    "from sklearn.ensemble import RandomForestRegressor\n",
    "from sklearn.datasets import make_regression\n",
    "from sklearn.model_selection import cross_validate\n",
    "from sklearn.pipeline import Pipeline\n",
    "from sklearn.metrics import mean_absolute_error\n",
    "import pickle\n",
    "from shapely.geometry import Point, Polygon"
   ]
  },
  {
   "cell_type": "code",
   "execution_count": null,
   "metadata": {},
   "outputs": [],
   "source": [
    "geo_data = pd.read_csv('distance_to_lake.csv')\n",
    "latmin = min(geo_data.lat)\n",
    "latmax = max(geo_data.lat)\n",
    "lonmin = min(geo_data.lon)\n",
    "lonmax = max(geo_data.lon)\n",
    "N=500.\n",
    "grd = np.indices((int(N+1),int(N+1))).T.reshape(-1,2)\n",
    "grd = grd.astype(float)\n",
    "grd[:,1] = (1/N)*grd[:,1]*(lonmax - lonmin) + lonmin\n",
    "grd[:,0] = (1/N)*grd[:,0]*(latmax - latmin) + latmin\n",
    "xx = np.linspace(lonmin,lonmax,int(N+1))\n",
    "yy = np.linspace(latmin,latmax,int(N+1))\n",
    "crs = {'init': 'epsg:4326'}\n",
    "geometry = [Point(xy) for xy in zip(grd[:,1],grd[:,0])]\n",
    "grid = gpd.GeoDataFrame(crs = crs, geometry = geometry)\n",
    "grid = grid.reset_index(drop=False)\n",
    "\n",
    "watershape = 'geography/water/chicago_latlon.shp'\n",
    "parkshape = 'geography/parks/chicago_parks1.shp'\n",
    "forestshape = 'geography/forest/forest.shp'\n",
    "\n",
    "water = gpd.GeoDataFrame.from_file(watershape)\n",
    "park_map = gpd.GeoDataFrame.from_file(parkshape)\n",
    "forest_map = gpd.GeoDataFrame.from_file(forestshape)\n",
    "\n",
    "green_geo = park_map.geometry.append(forest_map.geometry)\n",
    "\n",
    "green_map = gpd.GeoDataFrame(crs = crs, geometry = green_geo)\n",
    "green_map = green_map.reset_index(drop=False)\n",
    "\n",
    "lake_MI = water[water.NAME == 'LAKE MICHIGAN']\n",
    "water_map = water[water.NAME != 'LAKE MICHIGAN']\n",
    "water_map = water_map.reset_index(drop=False)\n",
    "\n",
    "grid['d_water'] = 0.\n",
    "grid['d_park'] = 0.\n",
    "grid['d_lm'] = 0.\n",
    "\n",
    "for i,point in grid.iterrows():\n",
    "    distw = np.ones(shape=(len(water_map),1))\n",
    "    distf = np.ones(shape=(len(green_map),1))\n",
    "    for j,mi in lake_MI.iterrows():\n",
    "        distl = point['geometry'].distance(mi['geometry'])\n",
    "    for j,lake in water_map.iterrows():\n",
    "        distw[j] = point['geometry'].distance(lake['geometry'])\n",
    "    for j,tree in green_map.iterrows():\n",
    "        distf[j] = point['geometry'].distance(tree['geometry'])\n",
    "    grid.loc[i,'d_water'] = min(distw)\n",
    "    grid.loc[i,'d_park'] = min(distf)\n",
    "    for j,mi in lake_MI.iterrows():\n",
    "        grid.loc[i,'d_lm'] = point['geometry'].distance(mi['geometry'])"
   ]
  },
  {
   "cell_type": "code",
   "execution_count": null,
   "metadata": {},
   "outputs": [],
   "source": [
    "grid"
   ]
  },
  {
   "cell_type": "code",
   "execution_count": null,
   "metadata": {},
   "outputs": [],
   "source": []
  }
 ],
 "metadata": {
  "kernelspec": {
   "display_name": "myenv",
   "language": "python",
   "name": "myenv"
  },
  "language_info": {
   "codemirror_mode": {
    "name": "ipython",
    "version": 3
   },
   "file_extension": ".py",
   "mimetype": "text/x-python",
   "name": "python",
   "nbconvert_exporter": "python",
   "pygments_lexer": "ipython3",
   "version": "3.7.3"
  }
 },
 "nbformat": 4,
 "nbformat_minor": 2
}
