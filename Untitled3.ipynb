{
 "cells": [
  {
   "cell_type": "code",
   "execution_count": 83,
   "metadata": {},
   "outputs": [],
   "source": [
    "import numpy as np\n",
    "import pandas as pd\n",
    "import scipy as sp\n",
    "import scipy.ndimage\n",
    "import datetime as dt\n",
    "import folium\n",
    "import requests\n",
    "import branca\n",
    "from folium import plugins\n",
    "import matplotlib.pyplot as plt\n",
    "from scipy.interpolate import griddata\n",
    "import geojsoncontour\n",
    "from sklearn.linear_model import LinearRegression\n",
    "from sklearn.preprocessing import RobustScaler, PowerTransformer\n",
    "from sklearn.ensemble import RandomForestRegressor\n",
    "from sklearn.datasets import make_regression\n",
    "from sklearn.model_selection import cross_validate\n",
    "from sklearn.pipeline import Pipeline\n",
    "from sklearn.metrics import mean_absolute_error\n",
    "import pickle\n",
    "from shapely.geometry import Point, Polygon"
   ]
  },
  {
   "cell_type": "code",
   "execution_count": 89,
   "metadata": {
    "scrolled": true
   },
   "outputs": [],
   "source": [
    "geo_data = pd.read_csv('distance_to_lake.csv')\n",
    "\n",
    "scaler = RobustScaler()\n",
    "\n",
    "feature_data = geo_data[['num','d_water','d_park','d_lm','TL1','Tmin','Tmax']].dropna()\n",
    "feature_data['sqrt_dw']=np.sqrt(feature_data['d_water'])\n",
    "feature_data['sqrt_dp']=np.sqrt(feature_data['d_park'])\n",
    "X = feature_data[feature_data.columns.difference(['num','d_water','d_park'])]\n",
    "trainX = scaler.fit_transform(X)\n",
    "trainy = feature_data.num.astype(float)\n",
    "lin = LinearRegression().fit(trainX, trainy)\n",
    "lin.score(trainX,trainy)\n",
    "\n",
    "coefficients = pd.concat([pd.DataFrame(X.columns),pd.DataFrame(np.transpose(lin.coef_))], axis = 1)\n",
    "coefficients.columns\n",
    "\n",
    "latmin = min(geo_data.lat)\n",
    "latmax = max(geo_data.lat)\n",
    "lonmin = min(geo_data.lon)\n",
    "lonmax = max(geo_data.lon)\n",
    "\n",
    "grd = np.indices((51,51)).T.reshape(-1,2)\n",
    "grd = grd.astype(float)\n",
    "grd[:,1] = (1/50.)*grd[:,1]*(lonmax - lonmin) + lonmin\n",
    "grd[:,0] = (1/50.)*grd[:,0]*(latmax - latmin) + latmin\n",
    "xx = np.linspace(lonmin,lonmax,51)\n",
    "yy = np.linspace(latmin,latmax,51)\n",
    "testX = pd.DataFrame({'lat':grd[:,0],'lon':grd[:,1]})\n",
    "testX['Tmax'] = 86.63 \n",
    "testX['Tmin'] = 65.18\n",
    "testX['TH0'] = 83.63\n",
    "testX['TL1'] = 75.18\n",
    "testX['prec'] = 0.\n",
    "\n",
    "colors = ['darkgreen','green','yellow','orange','red','darkred']\n",
    "vmin = 0\n",
    "vmax = 50\n",
    "levels = len(colors)\n",
    "cm = branca.colormap.LinearColormap(colors, vmin=vmin, vmax=vmax).to_step(levels)\n",
    "\n",
    "geogrid = pd.read_csv('gridlake.csv')\n",
    "testX['sqrt_dw']=np.sqrt(geogrid['d_water'])\n",
    "testX['sqrt_dp']=np.sqrt(geogrid['d_park'])\n",
    "testX['d_lm']=np.sqrt(geogrid['d_lm'])\n",
    "testX = testX[testX.columns.difference(['geometry'])]\n",
    "TX = scaler.transform(testX[X.columns])\n",
    "xx = np.linspace(lonmin,lonmax,51)\n",
    "yy = np.linspace(latmin,latmax,51)\n",
    "YY = lin.predict(TX)\n",
    "testY = YY.reshape(51,51).transpose()\n",
    "\n",
    "cfig = plt.contourf(xx,yy,testY, levels, alpha=1.0, colors=colors, linestyles='None', vmin=vmin, vmax=vmax)\n",
    "plt.close()"
   ]
  },
  {
   "cell_type": "code",
   "execution_count": 90,
   "metadata": {},
   "outputs": [],
   "source": [
    "geojson = geojsoncontour.contourf_to_geojson(contourf=cfig,\n",
    "                                             min_angle_deg=0.0,\n",
    "                                             ndigits=5,stroke_width=0.5,\n",
    "                                             fill_opacity=1.0)\n",
    "\n",
    "geomap = folium.Map(location=[41.89, -87.64], zoom_start=13, tiles=\"stamenterrain\")\n",
    "folium.GeoJson(geojson,style_function=lambda x: {\n",
    "        'color':     x['properties']['stroke'],\n",
    "        'weight':    x['properties']['stroke-width'],\n",
    "        'fillColor': x['properties']['fill'],\n",
    "        'opacity':  1.0,\n",
    "    }).add_to(geomap)\n",
    "\n",
    "cm.caption = 'Mosquito Activity'\n",
    "geomap.add_child(cm)\n",
    "plugins.Fullscreen(position='topright', force_separate_button=True).add_to(geomap)\n",
    " \n",
    "# Plot the data\n",
    "geomap.save(f'templates/folium_contour_temperature_map.html')"
   ]
  },
  {
   "cell_type": "code",
   "execution_count": 88,
   "metadata": {},
   "outputs": [],
   "source": [
    "colors = ['darkgreen','green','limegreen','yellow','gold','orange','red','darkred']\n",
    "vmin = 0\n",
    "vmax = 50\n",
    "levels = len(colors)\n",
    "cm = branca.colormap.LinearColormap(colors, vmin=vmin, vmax=vmax).to_step(levels)\n",
    "\n",
    "cfig = plt.contourf(xx, yy, testY, levels, alpha=1.0, colors=colors, linestyles='None', vmin=vmin, vmax=vmax)\n",
    "plt.savefig('map.png',dpi=300)\n",
    "geojson = geojsoncontour.contourf_to_geojson(contourf=cfig,\n",
    "                                             min_angle_deg=0.0,\n",
    "                                             ndigits=5,stroke_width=0.5,\n",
    "                                             fill_opacity=1.0)\n",
    "\n",
    "geomap = folium.Map(location=[41.89, -87.64], zoom_start=13, tiles=\"stamenterrain\")\n",
    "folium.GeoJson(geojson,style_function=lambda x:{'color': x['properties']['stroke'],\n",
    "                   'weight': x['properties']['stroke-width'],\n",
    "                   'fillColor': x['properties']['fill'],\n",
    "                   'opacity':  1.0}).add_to(geomap)\n",
    "cm.caption = 'Mosquito Activity'\n",
    "geomap.add_child(cm)\n",
    "plugins.Fullscreen(position='topright', force_separate_button=True).add_to(geomap)\n",
    "geomap.save(f'activity_map.html')\n",
    "plt.close()"
   ]
  },
  {
   "cell_type": "code",
   "execution_count": 87,
   "metadata": {},
   "outputs": [
    {
     "name": "stdout",
     "output_type": "stream",
     "text": [
      "41.644720066 42.01780085 -87.85447335100002 -87.531059811\n"
     ]
    }
   ],
   "source": [
    "print(latmin,latmax,lonmin,lonmax)"
   ]
  },
  {
   "cell_type": "code",
   "execution_count": null,
   "metadata": {},
   "outputs": [],
   "source": []
  }
 ],
 "metadata": {
  "kernelspec": {
   "display_name": "myenv",
   "language": "python",
   "name": "myenv"
  },
  "language_info": {
   "codemirror_mode": {
    "name": "ipython",
    "version": 3
   },
   "file_extension": ".py",
   "mimetype": "text/x-python",
   "name": "python",
   "nbconvert_exporter": "python",
   "pygments_lexer": "ipython3",
   "version": "3.7.3"
  }
 },
 "nbformat": 4,
 "nbformat_minor": 2
}
