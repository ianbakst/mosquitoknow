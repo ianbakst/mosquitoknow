{
 "cells": [
  {
   "cell_type": "code",
   "execution_count": 5,
   "metadata": {},
   "outputs": [],
   "source": [
    "import numpy as np\n",
    "import pandas as pd\n",
    "import geopandas as gpd\n",
    "import matplotlib as mpl\n",
    "import matplotlib.pyplot as plt\n",
    "import seaborn as sns\n",
    "#from darksky import forecast\n",
    "import datetime as dt\n",
    "#from noaa_sdk import noaa\n",
    "import geoplot\n",
    "from sklearn.linear_model import LinearRegression\n",
    "from sklearn.preprocessing import RobustScaler\n",
    "import pickle\n",
    "import descartes\n",
    "import geopandas as gpd\n",
    "from shapely.geometry import Point, Polygon\n",
    "\n",
    "#n = noaa.NOAA()\n",
    "#noaakey = 'LsIneJLfjoLBjuBphdeUGyJLVJdXWRpK'\n",
    "#dskey = '6864d54f724e54e7c3ae08094f523ff0'"
   ]
  },
  {
   "cell_type": "code",
   "execution_count": null,
   "metadata": {},
   "outputs": [],
   "source": [
    "by_trap_year = data.groupby(['trap','year']).mean()\n",
    "by_trap_year = by_trap_year.reset_index(drop=False)\n",
    "by_2019 = by_trap_year[by_trap_year.year== 2014]\n",
    "\n",
    "crs = {'init': 'epsg:4326'}\n",
    "water_map = gpd.read_file('water/chicago_latlon.shp')\n",
    "park_map = gpd.read_file('parks/chicago_parks1.shp')\n",
    "forest_map =gpd.read_file('forest/forest.shp')\n",
    "geometry = [Point(xy) for xy in zip(by_2019.lon,by_2019.lat)]\n",
    "geo_traps = gpd.GeoDataFrame(by_2019, crs = crs, geometry = geometry)\n",
    "\n",
    "cmap = mpl.cm.get_cmap('cool')\n",
    "cmap.set_under('red')\n",
    "\n",
    "fig,ax = plt.subplots(figsize =(15,15))\n",
    "park_map.plot(ax = ax,alpha = 0.4, color ='green')\n",
    "forest_map.plot(ax = ax,alpha = 0.6, color ='darkgreen')\n",
    "water_map.plot(ax = ax,alpha = 0.5)\n",
    "sc = geo_traps.plot(ax = ax, markersize = 50, \n",
    "               c = geo_traps['num'],marker = \"o\",label = \"Traps\",cmap=cmap, legend=False)\n",
    "plt.legend(prop={'size':15})\n",
    "plt.xlim(-87.85,-87.525)\n",
    "plt.ylim(41.645,42.02)\n",
    "scatter = sc.collections[0]\n",
    "plt.colorbar(scatter, ax=sc)\n",
    "plt.show()"
   ]
  }
 ],
 "metadata": {
  "kernelspec": {
   "display_name": "myenv",
   "language": "python",
   "name": "myenv"
  },
  "language_info": {
   "codemirror_mode": {
    "name": "ipython",
    "version": 3
   },
   "file_extension": ".py",
   "mimetype": "text/x-python",
   "name": "python",
   "nbconvert_exporter": "python",
   "pygments_lexer": "ipython3",
   "version": "3.7.3"
  }
 },
 "nbformat": 4,
 "nbformat_minor": 2
}
